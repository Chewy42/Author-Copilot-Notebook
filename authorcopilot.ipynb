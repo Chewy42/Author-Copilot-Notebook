{
 "cells": [
  {
   "cell_type": "code",
   "execution_count": null,
   "metadata": {},
   "outputs": [],
   "source": [
    "'''\n",
    "\n",
    "# Author Copilot (c) 2023 by Matthew Favela\n",
    "# Please read the README.md before running this notebook.\n",
    "\n",
    "'''"
   ]
  },
  {
   "attachments": {},
   "cell_type": "markdown",
   "metadata": {},
   "source": [
    "### Load config and packages"
   ]
  },
  {
   "cell_type": "code",
   "execution_count": null,
   "metadata": {},
   "outputs": [],
   "source": [
    "import os\n",
    "import dotenv\n",
    "import openai\n",
    "import json\n",
    "import pypandoc\n",
    "import shutil\n",
    "\n",
    "dotenv.load_dotenv()\n",
    "\n",
    "# If you make changes to the `config.json` file, you will need to re-run this cell to load the new config.\n",
    "with open('config.json') as f:\n",
    "    config = json.load(f)\n",
    "    \n",
    "\n",
    "openai.api_key = os.getenv(\"OPENAI_API_KEY\")\n",
    "openai.organization = os.getenv(\"OPENAI_ORG\")"
   ]
  },
  {
   "attachments": {},
   "cell_type": "markdown",
   "metadata": {},
   "source": [
    "### Generate a title and table of contents based on the topic"
   ]
  },
  {
   "cell_type": "code",
   "execution_count": null,
   "metadata": {},
   "outputs": [],
   "source": [
    "title_and_contents_prompt = f'''You are a professional on everything {str(config[\"topic\"])}. You are here to write a table of contents for an eBook based on what i tell you to. You must follow my steps. You need to captivate the reader and keep their attention with a title that represents the book in the most quality and value maximizing way. Be insightful and talk as if you genuinely want to help them. The book will be {str(config[\"num_chapters\"])} chapters long with sub chapters, sub sub chapters, and paragraphs. The table of contents must be in standard HTML format so that it can be exported in .epub format. use h1 for headers h2 for subheaders and so on and so forth. do not space out the tags, just have them line afer line but properly formatted. Do not put the tags for it to be a website (the following are unneccessary (DOCTYPE, html, header, body)), just format in html'''\n",
    "\n",
    "title_and_contents = openai.ChatCompletion.create(\n",
    "  model=config[\"model\"],\n",
    "  messages=[\n",
    "        {\n",
    "            \"role\": \"system\", \n",
    "            \"content\": title_and_contents_prompt}\n",
    "    ],\n",
    "    max_tokens=3500,\n",
    ")\n",
    "\n",
    "with open('book_draft.html', 'a') as f:\n",
    "    f.write(title_and_contents['choices'][0]['message']['content'])\n",
    "with open('title_and_contents.html', 'w') as f:\n",
    "    f.write(title_and_contents['choices'][0]['message']['content'])\n",
    "with open('log.txt', 'a') as f:\n",
    "    f.write(title_and_contents['choices'][0]['message']['content'])"
   ]
  },
  {
   "attachments": {},
   "cell_type": "markdown",
   "metadata": {},
   "source": [
    "### Check the title_and_contents.html and make any necessary changes, then run the next cells"
   ]
  },
  {
   "cell_type": "code",
   "execution_count": null,
   "metadata": {},
   "outputs": [],
   "source": [
    "title_and_contents = None\n",
    "with open('title_and_contents.html', 'r') as f:\n",
    "    title_and_contents = f.read()"
   ]
  },
  {
   "cell_type": "code",
   "execution_count": null,
   "metadata": {},
   "outputs": [],
   "source": [
    "num_chapters = title_and_contents.count('<h2>')\n",
    "toc_dict = {}\n",
    "chapters = title_and_contents.split('<h2>')\n",
    "chapter_names = []\n",
    "chapters.pop(0)\n",
    "for index, chapter in enumerate(chapters):\n",
    "    chapter_name = chapter.split('</h2>')[0]\n",
    "    chapter_names.append(chapter_name)\n",
    "\n",
    "    sub_chapters = chapter.split('<h3>')\n",
    "    sub_chapters.pop(0)\n",
    "    sub_chapters_dict = {}\n",
    "    for sub_chapter in sub_chapters:\n",
    "        sub_chapter_name = sub_chapter.split('</h3>')[0]\n",
    "        sub_sub_chapters = sub_chapter.split('<h4>')\n",
    "        sub_sub_chapters.pop(0)\n",
    "        sub_sub_chapters_dict = {}\n",
    "        for sub_sub_chapter in sub_sub_chapters:\n",
    "            sub_sub_chapter_name = sub_sub_chapter.split('</h4>')[0]\n",
    "            paragraphs = sub_sub_chapter.split('<p>')\n",
    "            paragraphs.pop(0)\n",
    "            paragraphs_dict = {}\n",
    "            for paragraph in paragraphs:\n",
    "                paragraph_name = paragraph.split('</p>')[0]\n",
    "                paragraphs_dict[paragraph_name] = ''\n",
    "            sub_sub_chapters_dict[sub_sub_chapter_name] = paragraphs_dict\n",
    "        sub_chapters_dict[sub_chapter_name] = sub_sub_chapters_dict\n",
    "    toc_dict[f\"Chapter {index}\"] = sub_chapters_dict"
   ]
  },
  {
   "cell_type": "code",
   "execution_count": null,
   "metadata": {},
   "outputs": [],
   "source": [
    "ai_sys_message = f'''You are a professional on everything {config[\"topic\"]} and HTML. You are here to write a book based on what i tell you to. You must follow my steps. Be creative, witty, and passionate, but dont over do it. You need to captivate the reader and keep their attention. Be insightful and talk as if you genuinely want to help them. The book will be {str(config[\"num_chapters\"])} so you can ramble and talk about subjects for a long time to soak up page space. Create a lot of value out of my book and even some call to actions. Each chapter will be 2500 words minimum.'''\n",
    "def generate_chapter(chapter_expanded):\n",
    "    chapter = f'''Write the chapter of an ebook based on the following information with a minimum of 2500 words for the entire chapters length and an absolute minimum of 5 sentences per paragraph (IMPORTANT: with <p> around each paragraph/body of text). Go into a lot of detail, be insightful, intelligent but talk in simple terms, and professional like you know what youre talking about and keep the reader interested and captivated to read more: table of contents {str(chapter_names)} chapter to write: {str(chapter_expanded)}. The chapter will be in standard HTML format using (<h1> tags for headers) (<h2> tags for sub headers) (<p> for paragraphs or bodies of text) and so on and so forth. every piece of text must have a HTML tag and formatted correctly for an eBook'''\n",
    "    response = openai.ChatCompletion.create(\n",
    "    model=config[\"model\"],\n",
    "    messages=[\n",
    "        {\"role\": \"system\", \"content\": ai_sys_message},\n",
    "        {\"role\": \"user\", \"content\": chapter}\n",
    "        ],\n",
    "    max_tokens=3000\n",
    "    )\n",
    "    with open('book_draft.html', 'a') as f:\n",
    "        f.write(\"\\n\\n\" + response['choices'][0]['message']['content'])\n",
    "    with open('log.txt', 'a') as f:\n",
    "        f.write(\"\\n\\n\\n\\n\\n\\n\\n-----------------------------------\\n\")\n",
    "        f.write(response['choices'][0]['message']['content'])\n",
    "        f.write(\"\\n-----------------------------------\")\n",
    "    return response['choices'][0]['message']['content']"
   ]
  },
  {
   "cell_type": "markdown",
   "metadata": {},
   "source": [
    "### Generate Introduction Chapter"
   ]
  },
  {
   "cell_type": "code",
   "execution_count": null,
   "metadata": {},
   "outputs": [],
   "source": [
    "print(f\"-- Generating introduction chapter --\")\n",
    "intro_chapter = generate_chapter(\"Introduction chapter\")\n",
    "print(f\"-- Successfully generated introduction chapter --\")"
   ]
  },
  {
   "cell_type": "markdown",
   "metadata": {},
   "source": [
    "### Generate chapters"
   ]
  },
  {
   "cell_type": "code",
   "execution_count": null,
   "metadata": {},
   "outputs": [],
   "source": [
    "for chapter_number in range(config[\"num_chapters\"]):\n",
    "    if(chapter_number == 0):\n",
    "        continue\n",
    "    print(f\"-- Generating chapter {str(chapter_number)} --\")\n",
    "    chapter = generate_chapter(toc_dict[f\"Chapter {str(chapter_number)}\"])\n",
    "    print(f\"-- Successfully generated chapter {str(chapter_number)} --\")"
   ]
  },
  {
   "attachments": {},
   "cell_type": "markdown",
   "metadata": {},
   "source": [
    "### Generate Bonus Chapter"
   ]
  },
  {
   "cell_type": "code",
   "execution_count": null,
   "metadata": {},
   "outputs": [],
   "source": [
    "print(f\"-- Generating bonus chapter --\")\n",
    "chapter_bonus = generate_chapter(\"BONUS Chapter\")\n",
    "print(f\"-- Successfully generated bonus chapter --\")"
   ]
  },
  {
   "attachments": {},
   "cell_type": "markdown",
   "metadata": {},
   "source": [
    "### Generate Conclusion Chapter"
   ]
  },
  {
   "cell_type": "code",
   "execution_count": null,
   "metadata": {},
   "outputs": [],
   "source": [
    "print(f\"-- Generating conclusion chapter --\")\n",
    "chapter_conclusion = generate_chapter(\"Conclusion chapter\")\n",
    "print(f\"-- Successfully generated conclusion chapter --\")"
   ]
  },
  {
   "cell_type": "markdown",
   "metadata": {},
   "source": [
    "### Generate the eBook"
   ]
  },
  {
   "cell_type": "code",
   "execution_count": null,
   "metadata": {},
   "outputs": [],
   "source": [
    "pypandoc.convert_file(\"book_draft.html\", 'epub', outputfile=f\"{config['topic']}-{config['author']}.epub\")\n",
    "#move into eBook-Saves folder\n",
    "shutil.move(f\"{config['topic']}-{config['author']}.epub\", f\"eBook-Saves/{config['topic']}-{config['author']}.epub\")\n"
   ]
  }
 ],
 "metadata": {
  "kernelspec": {
   "display_name": "Python 3",
   "language": "python",
   "name": "python3"
  },
  "language_info": {
   "codemirror_mode": {
    "name": "ipython",
    "version": 3
   },
   "file_extension": ".py",
   "mimetype": "text/x-python",
   "name": "python",
   "nbconvert_exporter": "python",
   "pygments_lexer": "ipython3",
   "version": "3.10.5"
  },
  "orig_nbformat": 4
 },
 "nbformat": 4,
 "nbformat_minor": 2
}
